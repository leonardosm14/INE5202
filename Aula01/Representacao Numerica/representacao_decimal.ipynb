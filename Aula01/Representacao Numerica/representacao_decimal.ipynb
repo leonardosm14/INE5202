{
 "cells": [
  {
   "cell_type": "code",
   "execution_count": 17,
   "metadata": {},
   "outputs": [],
   "source": [
    "import math\n",
    "import numpy as np"
   ]
  },
  {
   "cell_type": "code",
   "execution_count": 18,
   "metadata": {},
   "outputs": [
    {
     "data": {
      "text/plain": [
       "(24.0, 5.9604645e-08)"
      ]
     },
     "execution_count": 18,
     "metadata": {},
     "output_type": "execute_result"
    }
   ],
   "source": [
    "def precisao():\n",
    "\n",
    "    one_32 = np.float32(1)\n",
    "\n",
    "    p, c = one_32, one_32\n",
    "\n",
    "    while (c > 0):\n",
    "        p = np.float32(p/2)\n",
    "        max = np.float32(0)\n",
    "\n",
    "        if (one_32 + p > one_32):\n",
    "            c += 1\n",
    "        else:\n",
    "            max = c\n",
    "            c = 0\n",
    "        \n",
    "    return max, p\n",
    "\n",
    "precisao()"
   ]
  },
  {
   "cell_type": "code",
   "execution_count": 24,
   "metadata": {},
   "outputs": [
    {
     "name": "stdout",
     "output_type": "stream",
     "text": [
      "1.67\n",
      "1.66\n"
     ]
    }
   ],
   "source": [
    "# Arredondamentos\n",
    "\n",
    "def arredondamento(n, alg):\n",
    "    n = round(n, alg-1)\n",
    "    return n\n",
    "\n",
    "def corte(n, alg):\n",
    "    n = str(n)\n",
    "    n = n[0:alg+1]\n",
    "    return float(n)\n",
    "\n",
    "\n",
    "print(arredondamento(1.6667, 3))\n",
    "print(corte(1.6667, 3))"
   ]
  },
  {
   "cell_type": "code",
   "execution_count": 27,
   "metadata": {},
   "outputs": [
    {
     "name": "stdout",
     "output_type": "stream",
     "text": [
      "4205.01\n",
      "4205.0\n"
     ]
    }
   ],
   "source": [
    "v = 4210-4.99\n",
    "print(arredondamento(v, 4))\n",
    "print(corte(v, 4))"
   ]
  }
 ],
 "metadata": {
  "kernelspec": {
   "display_name": "Python 3",
   "language": "python",
   "name": "python3"
  },
  "language_info": {
   "codemirror_mode": {
    "name": "ipython",
    "version": 3
   },
   "file_extension": ".py",
   "mimetype": "text/x-python",
   "name": "python",
   "nbconvert_exporter": "python",
   "pygments_lexer": "ipython3",
   "version": "3.10.12"
  }
 },
 "nbformat": 4,
 "nbformat_minor": 2
}
